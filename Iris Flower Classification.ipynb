{
 "cells": [
  {
   "cell_type": "markdown",
   "id": "802cc7fe",
   "metadata": {},
   "source": [
    "# Iris Flower Classification"
   ]
  },
  {
   "cell_type": "code",
   "execution_count": 1,
   "id": "d6652f26",
   "metadata": {},
   "outputs": [],
   "source": [
    "#Import libraries\n",
    "import numpy as np\n",
    "import pandas as pd\n",
    "import matplotlib.pyplot as plt\n",
    "from sklearn.linear_model import LinearRegression\n",
    "from sklearn.model_selection import train_test_split\n",
    "from sklearn.metrics import mean_squared_error,r2_score\n",
    "from sklearn.preprocessing import LabelEncoder"
   ]
  },
  {
   "cell_type": "code",
   "execution_count": 2,
   "id": "7dcffb22",
   "metadata": {},
   "outputs": [
    {
     "name": "stdout",
     "output_type": "stream",
     "text": [
      "Dataset : \n",
      "       Id  SepalLengthCm  SepalWidthCm  PetalLengthCm  PetalWidthCm  \\\n",
      "0      1            5.1           3.5            1.4           0.2   \n",
      "1      2            4.9           3.0            1.4           0.2   \n",
      "2      3            4.7           3.2            1.3           0.2   \n",
      "3      4            4.6           3.1            1.5           0.2   \n",
      "4      5            5.0           3.6            1.4           0.2   \n",
      "..   ...            ...           ...            ...           ...   \n",
      "145  146            6.7           3.0            5.2           2.3   \n",
      "146  147            6.3           2.5            5.0           1.9   \n",
      "147  148            6.5           3.0            5.2           2.0   \n",
      "148  149            6.2           3.4            5.4           2.3   \n",
      "149  150            5.9           3.0            5.1           1.8   \n",
      "\n",
      "            Species  \n",
      "0       Iris-setosa  \n",
      "1       Iris-setosa  \n",
      "2       Iris-setosa  \n",
      "3       Iris-setosa  \n",
      "4       Iris-setosa  \n",
      "..              ...  \n",
      "145  Iris-virginica  \n",
      "146  Iris-virginica  \n",
      "147  Iris-virginica  \n",
      "148  Iris-virginica  \n",
      "149  Iris-virginica  \n",
      "\n",
      "[150 rows x 6 columns]\n"
     ]
    }
   ],
   "source": [
    "#Input dataset\n",
    "data=pd.read_csv(\"Iris.csv\")\n",
    "print(\"Dataset : \\n\",data)"
   ]
  },
  {
   "cell_type": "code",
   "execution_count": 3,
   "id": "046cc7bd",
   "metadata": {
    "scrolled": true
   },
   "outputs": [
    {
     "data": {
      "text/html": [
       "<div>\n",
       "<style scoped>\n",
       "    .dataframe tbody tr th:only-of-type {\n",
       "        vertical-align: middle;\n",
       "    }\n",
       "\n",
       "    .dataframe tbody tr th {\n",
       "        vertical-align: top;\n",
       "    }\n",
       "\n",
       "    .dataframe thead th {\n",
       "        text-align: right;\n",
       "    }\n",
       "</style>\n",
       "<table border=\"1\" class=\"dataframe\">\n",
       "  <thead>\n",
       "    <tr style=\"text-align: right;\">\n",
       "      <th></th>\n",
       "      <th>Id</th>\n",
       "      <th>SepalLengthCm</th>\n",
       "      <th>SepalWidthCm</th>\n",
       "      <th>PetalLengthCm</th>\n",
       "      <th>PetalWidthCm</th>\n",
       "    </tr>\n",
       "  </thead>\n",
       "  <tbody>\n",
       "    <tr>\n",
       "      <th>count</th>\n",
       "      <td>150.000000</td>\n",
       "      <td>150.000000</td>\n",
       "      <td>150.000000</td>\n",
       "      <td>150.000000</td>\n",
       "      <td>150.000000</td>\n",
       "    </tr>\n",
       "    <tr>\n",
       "      <th>mean</th>\n",
       "      <td>75.500000</td>\n",
       "      <td>5.843333</td>\n",
       "      <td>3.054000</td>\n",
       "      <td>3.758667</td>\n",
       "      <td>1.198667</td>\n",
       "    </tr>\n",
       "    <tr>\n",
       "      <th>std</th>\n",
       "      <td>43.445368</td>\n",
       "      <td>0.828066</td>\n",
       "      <td>0.433594</td>\n",
       "      <td>1.764420</td>\n",
       "      <td>0.763161</td>\n",
       "    </tr>\n",
       "    <tr>\n",
       "      <th>min</th>\n",
       "      <td>1.000000</td>\n",
       "      <td>4.300000</td>\n",
       "      <td>2.000000</td>\n",
       "      <td>1.000000</td>\n",
       "      <td>0.100000</td>\n",
       "    </tr>\n",
       "    <tr>\n",
       "      <th>25%</th>\n",
       "      <td>38.250000</td>\n",
       "      <td>5.100000</td>\n",
       "      <td>2.800000</td>\n",
       "      <td>1.600000</td>\n",
       "      <td>0.300000</td>\n",
       "    </tr>\n",
       "    <tr>\n",
       "      <th>50%</th>\n",
       "      <td>75.500000</td>\n",
       "      <td>5.800000</td>\n",
       "      <td>3.000000</td>\n",
       "      <td>4.350000</td>\n",
       "      <td>1.300000</td>\n",
       "    </tr>\n",
       "    <tr>\n",
       "      <th>75%</th>\n",
       "      <td>112.750000</td>\n",
       "      <td>6.400000</td>\n",
       "      <td>3.300000</td>\n",
       "      <td>5.100000</td>\n",
       "      <td>1.800000</td>\n",
       "    </tr>\n",
       "    <tr>\n",
       "      <th>max</th>\n",
       "      <td>150.000000</td>\n",
       "      <td>7.900000</td>\n",
       "      <td>4.400000</td>\n",
       "      <td>6.900000</td>\n",
       "      <td>2.500000</td>\n",
       "    </tr>\n",
       "  </tbody>\n",
       "</table>\n",
       "</div>"
      ],
      "text/plain": [
       "               Id  SepalLengthCm  SepalWidthCm  PetalLengthCm  PetalWidthCm\n",
       "count  150.000000     150.000000    150.000000     150.000000    150.000000\n",
       "mean    75.500000       5.843333      3.054000       3.758667      1.198667\n",
       "std     43.445368       0.828066      0.433594       1.764420      0.763161\n",
       "min      1.000000       4.300000      2.000000       1.000000      0.100000\n",
       "25%     38.250000       5.100000      2.800000       1.600000      0.300000\n",
       "50%     75.500000       5.800000      3.000000       4.350000      1.300000\n",
       "75%    112.750000       6.400000      3.300000       5.100000      1.800000\n",
       "max    150.000000       7.900000      4.400000       6.900000      2.500000"
      ]
     },
     "execution_count": 3,
     "metadata": {},
     "output_type": "execute_result"
    }
   ],
   "source": [
    "#Describe dataset\n",
    "data.describe()"
   ]
  },
  {
   "cell_type": "code",
   "execution_count": 4,
   "id": "6427f909",
   "metadata": {},
   "outputs": [
    {
     "name": "stdout",
     "output_type": "stream",
     "text": [
      "<class 'pandas.core.frame.DataFrame'>\n",
      "RangeIndex: 150 entries, 0 to 149\n",
      "Data columns (total 6 columns):\n",
      " #   Column         Non-Null Count  Dtype  \n",
      "---  ------         --------------  -----  \n",
      " 0   Id             150 non-null    int64  \n",
      " 1   SepalLengthCm  150 non-null    float64\n",
      " 2   SepalWidthCm   150 non-null    float64\n",
      " 3   PetalLengthCm  150 non-null    float64\n",
      " 4   PetalWidthCm   150 non-null    float64\n",
      " 5   Species        150 non-null    object \n",
      "dtypes: float64(4), int64(1), object(1)\n",
      "memory usage: 7.2+ KB\n"
     ]
    }
   ],
   "source": [
    "data.info()"
   ]
  },
  {
   "cell_type": "code",
   "execution_count": 5,
   "id": "a166ab74",
   "metadata": {},
   "outputs": [
    {
     "data": {
      "text/plain": [
       "Id               0\n",
       "SepalLengthCm    0\n",
       "SepalWidthCm     0\n",
       "PetalLengthCm    0\n",
       "PetalWidthCm     0\n",
       "Species          0\n",
       "dtype: int64"
      ]
     },
     "execution_count": 5,
     "metadata": {},
     "output_type": "execute_result"
    }
   ],
   "source": [
    "#Checking for null values\n",
    "data.isnull().sum()"
   ]
  },
  {
   "cell_type": "code",
   "execution_count": 6,
   "id": "7a3afc7e",
   "metadata": {},
   "outputs": [],
   "source": [
    "#Label Encoding\n",
    "label_encoder =LabelEncoder()\n",
    "data['Species']= label_encoder.fit_transform(data['Species'])"
   ]
  },
  {
   "cell_type": "code",
   "execution_count": 7,
   "id": "4e9efdfc",
   "metadata": {},
   "outputs": [
    {
     "name": "stdout",
     "output_type": "stream",
     "text": [
      "Independent variables are : \n",
      "       Id  SepalLengthCm  SepalWidthCm\n",
      "0      1            5.1           3.5\n",
      "1      2            4.9           3.0\n",
      "2      3            4.7           3.2\n",
      "3      4            4.6           3.1\n",
      "4      5            5.0           3.6\n",
      "..   ...            ...           ...\n",
      "145  146            6.7           3.0\n",
      "146  147            6.3           2.5\n",
      "147  148            6.5           3.0\n",
      "148  149            6.2           3.4\n",
      "149  150            5.9           3.0\n",
      "\n",
      "[150 rows x 3 columns]\n",
      "\n",
      "Dependent variables are : \n",
      " 0      0\n",
      "1      0\n",
      "2      0\n",
      "3      0\n",
      "4      0\n",
      "      ..\n",
      "145    2\n",
      "146    2\n",
      "147    2\n",
      "148    2\n",
      "149    2\n",
      "Name: Species, Length: 150, dtype: int32\n"
     ]
    }
   ],
   "source": [
    "#Define independent and dependent variables\n",
    "\n",
    "x=data.iloc[:,:3]\n",
    "y=data.iloc[:,-1]\n",
    "\n",
    "print(\"Independent variables are : \\n\",x)\n",
    "print(\"\\nDependent variables are : \\n\",y)"
   ]
  },
  {
   "cell_type": "code",
   "execution_count": 8,
   "id": "9635201a",
   "metadata": {},
   "outputs": [],
   "source": [
    "#Split training and test data\n",
    "x_train,x_test,y_train,y_test=train_test_split(x,y,test_size=0.3,random_state=4)"
   ]
  },
  {
   "cell_type": "code",
   "execution_count": 9,
   "id": "58df311d",
   "metadata": {},
   "outputs": [
    {
     "name": "stdout",
     "output_type": "stream",
     "text": [
      "\n",
      "Model :  LinearRegression()\n"
     ]
    }
   ],
   "source": [
    "# Fit the model\n",
    "lm=LinearRegression()\n",
    "model=lm.fit(x_train,y_train)\n",
    "print(\"\\nModel : \",model)"
   ]
  },
  {
   "cell_type": "code",
   "execution_count": 10,
   "id": "6c5cc2af",
   "metadata": {},
   "outputs": [
    {
     "name": "stdout",
     "output_type": "stream",
     "text": [
      "\n",
      "y_test : \n",
      "128    2\n",
      "18     0\n",
      "130    2\n",
      "105    2\n",
      "107    2\n",
      "78     1\n",
      "83     1\n",
      "14     0\n",
      "5      0\n",
      "133    2\n",
      "25     0\n",
      "11     0\n",
      "12     0\n",
      "63     1\n",
      "113    2\n",
      "34     0\n",
      "60     1\n",
      "2      0\n",
      "24     0\n",
      "123    2\n",
      "35     0\n",
      "124    2\n",
      "68     1\n",
      "26     0\n",
      "29     0\n",
      "19     0\n",
      "41     0\n",
      "16     0\n",
      "20     0\n",
      "101    2\n",
      "84     1\n",
      "47     0\n",
      "108    2\n",
      "1      0\n",
      "93     1\n",
      "144    2\n",
      "125    2\n",
      "92     1\n",
      "86     1\n",
      "46     0\n",
      "135    2\n",
      "7      0\n",
      "65     1\n",
      "10     0\n",
      "132    2\n",
      "Name: Species, dtype: int32 \n",
      "\n",
      "y_pred : \n",
      "[ 1.92203501  0.04025646  2.20225825  1.8710475   1.84302057  1.11909531\n",
      "  1.2284509  -0.03017878 -0.23335146  1.9648499   0.12350109 -0.20029588\n",
      " -0.10418756  0.94005503  1.60247654  0.20018469  0.80650444 -0.30695367\n",
      " -0.02320287  1.84924594  0.2184836   1.84033107  1.17781567  0.05463785\n",
      "  0.06085491 -0.0979079   0.35932277 -0.08350352  0.07409387  1.42306099\n",
      "  1.02842221  0.28076281  1.787342   -0.22873768  1.19418392  2.11278187\n",
      "  2.00106414  1.32107957  1.36391745  0.26990068  2.30502151 -0.20419041\n",
      "  1.07784411 -0.12399586  1.97652517]\n"
     ]
    }
   ],
   "source": [
    "#Calculate predicted values\n",
    "y_pred=model.predict(x_test)\n",
    "print(f'\\ny_test : \\n{y_test} \\n\\ny_pred : \\n{y_pred}')"
   ]
  },
  {
   "cell_type": "code",
   "execution_count": 11,
   "id": "2b002e65",
   "metadata": {},
   "outputs": [
    {
     "name": "stdout",
     "output_type": "stream",
     "text": [
      "\n",
      "Coefficient of determination : \n",
      " [ 0.01362254  0.25297816 -0.20621446]\n",
      "\n",
      "Mean squared error : \n",
      " 0.04275450205020629\n",
      "\n",
      "R squared error : \n",
      " 0.9432648318141102\n"
     ]
    }
   ],
   "source": [
    "#Performance of the model\n",
    "print(\"\\nCoefficient of determination : \\n\",model.coef_)\n",
    "print(\"\\nMean squared error : \\n\",mean_squared_error(y_test,y_pred))\n",
    "print(\"\\nR squared error : \\n\",r2_score(y_test,y_pred))"
   ]
  }
 ],
 "metadata": {
  "kernelspec": {
   "display_name": "Python 3 (ipykernel)",
   "language": "python",
   "name": "python3"
  },
  "language_info": {
   "codemirror_mode": {
    "name": "ipython",
    "version": 3
   },
   "file_extension": ".py",
   "mimetype": "text/x-python",
   "name": "python",
   "nbconvert_exporter": "python",
   "pygments_lexer": "ipython3",
   "version": "3.9.13"
  }
 },
 "nbformat": 4,
 "nbformat_minor": 5
}
